{
 "cells": [
  {
   "cell_type": "code",
   "execution_count": 78,
   "id": "6f74e834-340b-4bc7-af67-72e3afb29f0c",
   "metadata": {},
   "outputs": [
    {
     "name": "stdout",
     "output_type": "stream",
     "text": [
      "[[2, 3], [5, 7]]\n"
     ]
    }
   ],
   "source": [
    "def generate_key_matrix():\n",
    "    # checked to be invertible\n",
    "    return [[2,3], [5,7]]\n",
    "\n",
    "key_matrix = generate_key_matrix()\n",
    "print(key_matrix)\n"
   ]
  },
  {
   "cell_type": "code",
   "execution_count": 79,
   "id": "4b161072-0b48-4189-bf85-d6a1b48486fd",
   "metadata": {},
   "outputs": [
    {
     "name": "stdout",
     "output_type": "stream",
     "text": [
      "[1, 2, 3, 4, 5, 6, 7, 8, 9, 10, 11, 12, 13, 14, 15, 16, 17, 18, 19, 20, 21, 22, 23, 24, 25, 26]\n"
     ]
    }
   ],
   "source": [
    "def to_number(text):\n",
    "    return [ord(char) - 64 for char in text]\n",
    "\n",
    "def to_text(numbers):\n",
    "    return [chr(num + 64) for num in numbers]\n",
    "\n",
    "print(to_number('ABCDEFGHIJKLMNOPQRSTUVWXYZ'))"
   ]
  },
  {
   "cell_type": "code",
   "execution_count": 80,
   "id": "120bea8f",
   "metadata": {},
   "outputs": [
    {
     "name": "stdout",
     "output_type": "stream",
     "text": [
      "[[1, 2], [3, 4], [5, 6], [7, 8], [9, 10], [11, 12], [13, 14], [15, 16], [17, 18], [19, 20], [21, 22], [23, 24], [25, 26]]\n",
      "ABCDEFGHIJKLMNOPQRSTUVWXYZ\n"
     ]
    }
   ],
   "source": [
    "def chunk_pad(numbers, key_matrix):\n",
    "    # key matrix is a cube, so we need to chunk the plain text in chunks of len(key_matrix)\n",
    "    chunk_size = len(key_matrix)\n",
    "    # code for padding in ASCII\n",
    "    # in this case we use capital A for simplicity\n",
    "    space = ord('A') - 64\n",
    "    # add spaces until it becomes divisible by chunk_size\n",
    "    while len(numbers) % chunk_size != 0:\n",
    "        numbers.append(space)\n",
    "    #print(numbers)\n",
    "\n",
    "    arrays = [numbers[i:i+chunk_size] for i in range(0, len(numbers), chunk_size)]\n",
    "    #print(arrays)\n",
    "    return arrays\n",
    "\n",
    "def collect(numbers):\n",
    "    # opposite operation\n",
    "    return ''.join([''.join([chr(num + 64) for num in chunk]) for chunk in numbers])\n",
    "\n",
    "print(chunk_pad(to_number('ABCDEFGHIJKLMNOPQRSTUVWXYZ'), key_matrix))\n",
    "# spaces are not visible\n",
    "print(collect(chunk_pad(to_number('ABCDEFGHIJKLMNOPQRSTUVWXYZ'), key_matrix)))"
   ]
  },
  {
   "cell_type": "code",
   "execution_count": null,
   "id": "64efe6b0",
   "metadata": {},
   "outputs": [],
   "source": []
  },
  {
   "cell_type": "code",
   "execution_count": 83,
   "id": "00ba4411",
   "metadata": {},
   "outputs": [
    {
     "name": "stdout",
     "output_type": "stream",
     "text": [
      "------------------------\n",
      "original plain text:  TEST\n",
      "[[3, 5], [20, 1]]\n",
      "cipher text:  CETA\n",
      "[[20, 5], [19, 20]]\n",
      "plain text:  TEST\n"
     ]
    }
   ],
   "source": [
    "import numpy as np # for matrix inversion\n",
    "\n",
    "def encrypt(plain_text,key_matrix):\n",
    "    # to encrypt the plain text, we need to convert it to a list of numbers first.\n",
    "    plain_text_list = to_number(plain_text)\n",
    "    cipher_text_list = []\n",
    "    \n",
    "    # we are performing Hill Cipher encryption here\n",
    "    # element = plain_text_list[i]\n",
    "    # now im kinda stuck until i figure out how to multiply the matrix in python with no library beacuse I didn't see if it was allowed or not\n",
    "    # we need to spot the pattern\n",
    "    # key_matrix[0][0] * plain_text_list[0] + key_matrix[0][1] * plain_text_list[1] + key_matrix[0][2] * plain_text_list[2] + key_matrix[0][3] * plain_text_list[3]\n",
    "    # key_matrix[1][0] * plain_text_list[0] + key_matrix[1][1] * plain_text_list[1] + key_matrix[1][2] * plain_text_list[2] + key_matrix[1][3] * plain_text_list[3]\n",
    "    # key_matrix[2][0] * plain_text_list[0] + key_matrix[2][1] * plain_text_list[1] + key_matrix[2][2] * plain_text_list[2] + key_matrix[2][3] * plain_text_list[3]\n",
    "    # we are currently performing one row in the matrix multiplication every time\n",
    "    # now we need to spot the pattern...\n",
    "    # I notice that the inner digit of key_matrix is moving more quickly than the outer one, that means we need a double for loop\n",
    "    # now many times are we looping? \n",
    "    # first thing we have to do is split the input into chunks and then pad it\n",
    "    plain_chunks = chunk_pad(plain_text_list, key_matrix)\n",
    "    # now it's easy game, i just need to figure out how to do it for one padded chunk\n",
    "    cipher_text_list = [] # the output is gonna be of the same length as the input\n",
    "    for i in range(len(plain_chunks)):\n",
    "        cipher_text_list.append([])\n",
    "        # now we have the matrix multiplication of the plain text chunk and the key matrix\n",
    "        chunk_size = len(key_matrix)\n",
    "        for j in range(chunk_size):\n",
    "            cipher_text_list[i].append(0)\n",
    "            for k in range(chunk_size):\n",
    "                # k is looping fast, so that's the inner part of the matrix.\n",
    "                # the ith chunk, so we get the ith element from plain_chunks\n",
    "                cipher_text_list[i][j] += key_matrix[j][k] * plain_chunks[i][k]\n",
    "            # they will get out of range, so we need to modulo them by plaintext allowed chars length, in our case we have 26 only, covering just the letters\n",
    "            cipher_text_list[i][j] %= 26\n",
    "    print(cipher_text_list)\n",
    "    return collect(cipher_text_list)\n",
    "\n",
    "\n",
    "\n",
    " # Your code goes here\n",
    "def decrypt(cipher_text,key_matrix):\n",
    "    # The decryption process is similar, only uses an inverse key matrix.\n",
    "    # we don't have a library, so we have to do it ourselves.\n",
    "\n",
    "    inv_matrix = np.linalg.inv(key_matrix)\n",
    "    # Convert cipher text to a list of numbers\n",
    "    cipher_text_list = to_number(cipher_text)\n",
    "    # Split the cipher text into chunks\n",
    "    cipher_chunks = chunk_pad(cipher_text_list, key_matrix)\n",
    "    plain_text_list = []  # This will hold the decrypted numeric values\n",
    "    \n",
    "    for i in range(len(cipher_chunks)):\n",
    "        plain_text_list.append([])\n",
    "        chunk_size = len(inv_matrix)\n",
    "        for j in range(chunk_size):\n",
    "            plain_text_list[i].append(0)\n",
    "            for k in range(chunk_size):\n",
    "                # Perform matrix multiplication using the inverse key matrix\n",
    "                \n",
    "                plain_text_list[i][j] += int(inv_matrix[j][k]) * cipher_chunks[i][k]\n",
    "            # Apply modulo to keep within the range of allowed characters\n",
    "            plain_text_list[i][j] %= 26\n",
    "    \n",
    "    # Convert the numeric list back to text\n",
    "    print(plain_text_list)\n",
    "    decrypted_text = collect(plain_text_list)\n",
    "    return decrypted_text\n",
    "\n",
    "# Your code goes here\n",
    "plain_text=\"TEST\" # 7 chars\n",
    "\n",
    "print(\"------------------------\")\n",
    "print(\"original plain text: \",plain_text)\n",
    "cipher_text=encrypt(plain_text,key_matrix)\n",
    "print(\"cipher text: \", cipher_text)\n",
    "print(\"plain text: \", decrypt(cipher_text, key_matrix))\n",
    "\n",
    "# Example input and output:\n",
    "\n",
    "#plaintext entered= \"TEST\"\n",
    "#ciphertext= \"OSEJ\"\n"
   ]
  },
  {
   "cell_type": "code",
   "execution_count": null,
   "id": "7ab60b40",
   "metadata": {},
   "outputs": [],
   "source": []
  }
 ],
 "metadata": {
  "kernelspec": {
   "display_name": "Python 3 (ipykernel)",
   "language": "python",
   "name": "python3"
  },
  "language_info": {
   "codemirror_mode": {
    "name": "ipython",
    "version": 3
   },
   "file_extension": ".py",
   "mimetype": "text/x-python",
   "name": "python",
   "nbconvert_exporter": "python",
   "pygments_lexer": "ipython3",
   "version": "3.8.12"
  }
 },
 "nbformat": 4,
 "nbformat_minor": 5
}
