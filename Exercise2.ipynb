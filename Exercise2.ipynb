{
 "cells": [
  {
   "cell_type": "markdown",
   "metadata": {},
   "source": [
    "# Diffie Hellman\n",
    "\n",
    "First define the imports"
   ]
  },
  {
   "cell_type": "code",
   "execution_count": 58,
   "metadata": {},
   "outputs": [],
   "source": [
    "# Required modules\n",
    "from cryptography import hazmat\n",
    "from cryptography.hazmat.primitives import hashes\n",
    "from cryptography.hazmat.primitives import serialization\n",
    "from cryptography.hazmat.primitives.asymmetric import dh\n",
    "from cryptography.hazmat.primitives.kdf.hkdf import HKDF\n",
    "from cryptography.hazmat.primitives.serialization import Encoding, PublicFormat, load_pem_parameters, load_pem_public_key, load_pem_private_key"
   ]
  },
  {
   "cell_type": "markdown",
   "metadata": {},
   "source": [
    "# Now the hash functions"
   ]
  },
  {
   "cell_type": "code",
   "execution_count": 59,
   "metadata": {},
   "outputs": [
    {
     "data": {
      "text/plain": [
       "b'\\x7f\\x83\\xb1e\\x7f\\xf1\\xfcS\\xb9-\\xc1\\x81H\\xa1\\xd6]\\xfc-K\\x1f\\xa3\\xd6w(J\\xdd\\xd2\\x00\\x12m\\x90i'"
      ]
     },
     "execution_count": 59,
     "metadata": {},
     "output_type": "execute_result"
    }
   ],
   "source": [
    "def hash_data_sha256(data):\n",
    "    # Create a SHA256 hash object\n",
    "    digest = hashes.Hash(hashes.SHA256())\n",
    "    \n",
    "    # Update the hash object with the data to be hashed\n",
    "    digest.update(data)\n",
    "    \n",
    "    # Finalize the hash and get the digest\n",
    "    hash_digest = digest.finalize()\n",
    "    \n",
    "    return hash_digest\n",
    "\n",
    "hash_data_sha256(b\"Hello World!\")"
   ]
  },
  {
   "cell_type": "markdown",
   "metadata": {},
   "source": [
    "# Figure out how Serialisation works\n",
    "From my understanding of the serialization module, it exposes functions to serialise and deserialise keys and certificates.\n",
    "\n",
    "It also exposes constants for encoding and decoding."
   ]
  },
  {
   "cell_type": "code",
   "execution_count": 60,
   "metadata": {},
   "outputs": [],
   "source": [
    "\n",
    "def read_private_key():\n",
    "    # random private key is generate with openssl in pem format using\n",
    "    # openssl genpkey -algorithm RSA -out private_key.pem -pkeyopt rsa_keygen_bits:2048\n",
    "    # Serialize the data to PEM format\n",
    "\n",
    "    with open(\"private_key.pem\", \"rb\") as key_file:\n",
    "        data = key_file.read()\n",
    "    return load_pem_private_key(data, password=None)\n",
    "    \n",
    "    # return serialized_data\n"
   ]
  },
  {
   "cell_type": "markdown",
   "metadata": {},
   "source": [
    "# Testing encryption\n",
    "OAEP (Optimal Asymmetric Encryption Padding) is a padding scheme that makes encryption much more secure. \n",
    "It uses a hash function (in this case, SHA224) to process the data before encryption, \n",
    "making it harder for attackers to exploit predictable patterns in encrypted messages.\n",
    "## Padding\n",
    "OAEP padding is public information, not part of the keys. All parties know about this"
   ]
  },
  {
   "cell_type": "code",
   "execution_count": 61,
   "metadata": {},
   "outputs": [
    {
     "name": "stdout",
     "output_type": "stream",
     "text": [
      "b'q\\xd5\\xf4c`\\xc0Gz\\x92=\\x02\\x1eI\\xc8\\xf0\\x82\\x14\\x80\\xca\\x9f-\\xb4\\x8e\\xfe\\xe6\\xd4zr\\xcc\\xfa\\xdd!\\xa2\\x7f\\xbd\\xa7\\xc6\\xcf\\xee\\x1a:\\xb6__?\\xb6;\\x04\\xab\\xf2\\xd4\\x8e\\xfbWP\\xac!\\x8f\\x92\\xf29\\x07+\\xff\\xf01\\x10\\xeb\\x99\\xf9)\\x05\\xbe3K\\xf4\"9\\x88\\xf0_Y:\\xa6\\xd5\\xd8\\xb3\\xbd\\xe2\\x85\\xb9\\x8a\\xbcJ\\x19\\x89\\x8cN\\x90\\xa1\\x8a\\xecC\\xccD\\xb2\\xebM\\xbdI\\x81M\\xcb\\xb3@Q\"\\xf6>\\xe7\\x1f\\xd9\\xad[0\\x13\\xfd%,\\x07Sf\\x9eZ\\x0b\\xf5v\\xf2\\x14-\\x14\\xf6\\xf1\\n{w\\x86\\xa0\\xf9\\xc8\\xf1j\"\\x0e\\xd7\\xd3U\\x12\\xe7\\x12I4\\x17\\xf7_\\xbf\\x02\\\\k\\xe6)\\x9f\\xe2%lxTh\\x05:cG\\xec\\x1ay\\x0eC\\x8a\\xca$}\\x0bL\\xcba\\xbb\\\\\\x0c\\x0e\\xcfb1\\x8c\\xc1L@\\x06Y\\x97\\xfd\\x10\\xd7\\xc6)\\x07\\x9b\\xaa\\xfe\\x07\\x83\\xdb\\x92\\xbc\\x99\\x7f\\xdca>\\'\\x19\\x88\\xa9\\x91S3-t,B \\x9au3\\x9fC\\xfb\\ni\\xbf\\xd7\\xb5\\xa5\\xa6\\xb39+'\n"
     ]
    },
    {
     "data": {
      "text/plain": [
       "b'Hello World!'"
      ]
     },
     "execution_count": 61,
     "metadata": {},
     "output_type": "execute_result"
    }
   ],
   "source": [
    "from cryptography.hazmat.primitives.asymmetric import padding\n",
    "# dw this is just for testing out things, im not using it for anything else.\n",
    "\n",
    "padding = padding.OAEP(mgf=padding.MGF1(algorithm=hashes.SHA224()), algorithm=hashes.SHA224(), label=None)\n",
    "encrypted = read_private_key().public_key().encrypt(b\"Hello World!\", padding=padding)\n",
    "print(encrypted)\n",
    "read_private_key().decrypt(encrypted, padding=padding)\n"
   ]
  },
  {
   "cell_type": "markdown",
   "metadata": {},
   "source": [
    "# Parameters for Diffie Hellman\n",
    "Diffie Hellman key exchange requires the parameters to be the same before the key exchange can be performed.\n",
    "\n",
    "This is why we need to modify the DiffieHellman() function to accept the parameters."
   ]
  },
  {
   "cell_type": "code",
   "execution_count": 62,
   "metadata": {},
   "outputs": [
    {
     "name": "stdout",
     "output_type": "stream",
     "text": [
      "2\n",
      "Alice Public Key: b'-----BEGIN PUBLIC KEY-----\\nMIGbMFMGCSqGSIb3DQEDATBGAkEA9W/1UZ4P86AbmIyTO9iNlb5gO0txkxIPMe+f\\nSb+BZlGsSXhHFB2jgjlHlhp5CzOwcbSkwIeA5g2Urfl4lOxQzwIBAgNEAAJBAIJL\\nQt44JoJUEqjk2XmpSgQkJuU1qRXXB/vSipZQ5ryx/JLt40DEaPZdVDw4i3/GWOfd\\nyLU1D8yDkEk1ZHUqQvk=\\n-----END PUBLIC KEY-----\\n'\n",
      "2\n",
      "Bob Public Key: b'-----BEGIN PUBLIC KEY-----\\nMIGaMFMGCSqGSIb3DQEDATBGAkEA9W/1UZ4P86AbmIyTO9iNlb5gO0txkxIPMe+f\\nSb+BZlGsSXhHFB2jgjlHlhp5CzOwcbSkwIeA5g2Urfl4lOxQzwIBAgNDAAJABghq\\nT4r5EImoWVoKCzMJl3Z2Af/4NYOmxS/tQYnFtxsUXAF8ryWuiUDNNIMt3KhJTSKz\\nxohAtKyI41ujS9g9kQ==\\n-----END PUBLIC KEY-----\\n'\n",
      "2\n",
      "Eave Public Key: b'-----BEGIN PUBLIC KEY-----\\nMIGbMFMGCSqGSIb3DQEDATBGAkEA9W/1UZ4P86AbmIyTO9iNlb5gO0txkxIPMe+f\\nSb+BZlGsSXhHFB2jgjlHlhp5CzOwcbSkwIeA5g2Urfl4lOxQzwIBAgNEAAJBAPU+\\nU8Rjmr35mVWRgpyISZvD25UEa8TBrAia5EP4FAarh3JbuNuGlx3MBcFJ3KrD9y3Y\\n6mHiJ4jEK7vzUAIqMqE=\\n-----END PUBLIC KEY-----\\n'\n"
     ]
    }
   ],
   "source": [
    "\n",
    "def serialize_public_key(public_key):\n",
    "    return public_key.public_bytes(encoding=serialization.Encoding.PEM, format=serialization.PublicFormat.SubjectPublicKeyInfo)\n",
    "\n",
    "def deserialize_public_key(pem):\n",
    "    # Deserialize the public key received from the other party\n",
    "    public_key = serialization.load_pem_public_key(pem)\n",
    "    return public_key\n",
    "\n",
    "def dh_params():\n",
    "    # create diffie hellman parameters\n",
    "    # key_size = 512 because it's faster to execute\n",
    "    parameters = dh.generate_parameters(generator=2, key_size=512, backend=None)\n",
    "    return parameters\n",
    "\n",
    "# Had to change the name from DiffieHellman() to diffie_hellman() to follow the naming conventions\n",
    "def diffie_hellman(parameters):\n",
    "    # generate the public key\n",
    "    print(parameters.parameter_numbers().g) # 2\n",
    "    key_pair = parameters.generate_private_key()\n",
    "    return key_pair, serialize_public_key(key_pair.public_key())\n",
    "\n",
    "\n",
    "params = dh_params()\n",
    "# Actor 1 generates their key pair and serializes the public key\n",
    "alice_private_key, alice_public_pem = diffie_hellman(params)\n",
    "print(\"Alice Public Key:\", alice_public_pem)\n",
    "\n",
    "# Bob generates their key pair and serializes the public key\n",
    "bob_private_key, bob_public_pem = diffie_hellman(params)\n",
    "print(\"Bob Public Key:\", bob_public_pem)\n",
    "\n",
    "# Eave generates their key pair and serializes the public key\n",
    "# params are public, so eave also has them \n",
    "eave_private_key, eave_public_pem = diffie_hellman(params)\n",
    "print(\"Eave Public Key:\", eave_public_pem)\n"
   ]
  },
  {
   "cell_type": "markdown",
   "metadata": {},
   "source": [
    "# Exchange\n",
    "Now basically the game is for two actors to exchange their public keys and the third one to intersept them and eavesdrop the communication"
   ]
  },
  {
   "cell_type": "code",
   "execution_count": 63,
   "metadata": {},
   "outputs": [
    {
     "name": "stdout",
     "output_type": "stream",
     "text": [
      "Eave and Alice Shared Secret: b'^\\x96m\\xe4\\x13t\\x08\\xb7\\x7fri\\x80\\x91\\x86\\x98\\xb4\\xa6[\\xbd<\\xd6\\x0e\\xb4\\x8a4^\\x04\\xc1\\xab4\\x14P\\xc7\\tzZH1\\x15\\x11a\\xc3xG.\\x92H\\xc0\\xc7\\xec-!\\xb4\\xd8Eb\\x86H\\xb0gE\\xbb\\xd5\\xb6'\n",
      "Eave and Bob Shared Secret: b'\\xb5\\xa6\\x9e\\x1a\\x83\\xbcU\\xa9W\\xc5n\\x8e\\x94\\xa9\\x85\\x8aN\\xe9\\x19\\xf7\\x1bD2\\xd4\\xbd5\\xf7\\xb7u\\xed\\xd4\\r\\x95~\\xf2\\xcc\\x15\\x98\\xdb\\xf4\\x0bm1P\\xb2\\x04\\xe3\\xe0\\xa0 \\xfa\\xf6W\\xc5\\x0c[F\\x8fX\\xb5\\xdcu\\xec\\xe9'\n"
     ]
    }
   ],
   "source": [
    "alice_public_key = deserialize_public_key(alice_public_pem)\n",
    "bob_public_key = deserialize_public_key(bob_public_pem)\n",
    "\n",
    "# Eave intercepts the public keys and generates shared secrets with both Alice and Bob\n",
    "eave_alice_shared_secret = eave_private_key.exchange(alice_public_key)\n",
    "\n",
    "eave_bob_shared_secret = eave_private_key.exchange(bob_public_key)\n",
    "\n",
    "print(\"Eave and Alice Shared Secret:\", eave_alice_shared_secret)\n",
    "print(\"Eave and Bob Shared Secret:\", eave_bob_shared_secret)"
   ]
  },
  {
   "cell_type": "markdown",
   "metadata": {},
   "source": [
    "# Key Derivation\n",
    "Now Alice wants to send the shared secret to Bob and Bob wants to receive the shared secret from Alice.\n",
    "\n",
    "Alice sends the shared secret to Bob\n",
    "Eave intercepts the message, decrypts it, reencrypts it, and sends it to Bob\n",
    "\n",
    "Bob receives the message from Eave.\n",
    "\n",
    "The problem is that we need to derive a symmetric key from the shared secret as it cannot be used alone."
   ]
  },
  {
   "cell_type": "code",
   "execution_count": 64,
   "metadata": {},
   "outputs": [
    {
     "name": "stdout",
     "output_type": "stream",
     "text": [
      "b'\\xe5A\\x06\\x84\\x05y\\xb4\\x16ns<0\\x81\\xfe\\xa9\\x16t\\x12\\xa9\\x05\\x07\\xb6m\\x80\\xf8\\xdf\\xce\\xae\\xc2\\xaa\\x9d6'\n",
      "b'\\xf2\\xb3\\xd3\\x9fe|\\x0b\\xa9\\xaf\\x0e\\x8d\\x0b\\x9e\\xc2\\xfdY]AR\\x17aXiF\\xd3\\xb9\\xde\\x84N\\x18\\nh'\n"
     ]
    }
   ],
   "source": [
    "hkdf = HKDF(algorithm=hashes.SHA256(), length=32, salt=None, info=b\"symmetric_key\")\n",
    "aes_key_alice_eave = hkdf.derive(eave_alice_shared_secret)\n",
    "print(aes_key_alice_eave)\n",
    "hkdf = HKDF(algorithm=hashes.SHA256(), length=32, salt=None, info=b\"symmetric_key\")\n",
    "aes_key_bob_eave = hkdf.derive(eave_bob_shared_secret)\n",
    "print(aes_key_bob_eave)"
   ]
  },
  {
   "cell_type": "code",
   "execution_count": 65,
   "metadata": {},
   "outputs": [
    {
     "name": "stdout",
     "output_type": "stream",
     "text": [
      "Encrypted Message with AES key: b'\\x1d\\t\\xf4^\\xa9\\x88\\x1dD4s\\x8fp\\xfe*&\\xc5\\x1d\\xbeP\\x15 5\\x03\\x97\\xcf\\xe8S\\xcfyT\\x1d\\x99'\n"
     ]
    }
   ],
   "source": [
    "from cryptography.hazmat.primitives.ciphers import Cipher, algorithms, modes\n",
    "from cryptography.hazmat.primitives.padding import PKCS7\n",
    "from cryptography.hazmat.backends import default_backend\n",
    "\n",
    "# The message to be encrypted\n",
    "message = b\"Hi Bob, it's Alice's message\"\n",
    "\n",
    "def encrypt(key, message):\n",
    "    # Padding the message to ensure it is a multiple of the block size\n",
    "    padder = PKCS7(algorithms.AES.block_size).padder()\n",
    "    padded_message = padder.update(message) + padder.finalize()\n",
    "\n",
    "    # Create a new AES cipher with CBC mode\n",
    "    cipher = Cipher(algorithms.AES(key), modes.CBC(b'IloveCryptografy'), backend=default_backend())\n",
    "\n",
    "    # Encrypt the message\n",
    "    encryptor = cipher.encryptor()\n",
    "    return encryptor.update(padded_message) + encryptor.finalize()\n",
    "\n",
    "\n",
    "alice_eave_encrypted = encrypt(aes_key_alice_eave, message)\n",
    "print(\"Encrypted Message with AES key:\", alice_eave_encrypted)\n"
   ]
  },
  {
   "cell_type": "markdown",
   "metadata": {},
   "source": [
    "# Decrypt the message by Alice"
   ]
  },
  {
   "cell_type": "code",
   "execution_count": 69,
   "metadata": {},
   "outputs": [
    {
     "name": "stdout",
     "output_type": "stream",
     "text": [
      "Eave saw the message: b\"Hi Bob, it's Alice's message\"\n"
     ]
    }
   ],
   "source": [
    "# Assuming the derived key from HKDF is the AES key\n",
    "\n",
    "# The encrypted message received\n",
    "encrypted_message = alice_eave_encrypted\n",
    "def decrypt(key, message):\n",
    "    # Create a new AES cipher with CBC mode for decryption\n",
    "    cipher = Cipher(algorithms.AES(key), modes.CBC(b'IloveCryptografy'), backend=default_backend())\n",
    "\n",
    "    # Decrypt the message\n",
    "    decryptor = cipher.decryptor()\n",
    "    padded_decrypted_message = decryptor.update(message) + decryptor.finalize()\n",
    "\n",
    "    # Unpadding the decrypted message to get the original message\n",
    "    unpadder = PKCS7(algorithms.AES.block_size).unpadder()\n",
    "    decrypted_message = unpadder.update(padded_decrypted_message) + unpadder.finalize()\n",
    "    return decrypted_message\n",
    "\n",
    "eave_alice_decrypted = decrypt(aes_key_alice_eave, encrypted_message)\n",
    "print(\"Eave saw the message:\", eave_alice_decrypted)\n"
   ]
  },
  {
   "cell_type": "markdown",
   "metadata": {},
   "source": [
    "# Send message to Bob"
   ]
  },
  {
   "cell_type": "code",
   "execution_count": 70,
   "metadata": {},
   "outputs": [
    {
     "name": "stdout",
     "output_type": "stream",
     "text": [
      "Alice's message to Bob: Hi Bob, it's Alice's message\n",
      "New message to Bob: Hi Bob, it's Alice's message. I need you to send me Bitcoin to this address: 1BoatSLRHtKNngkdXEeobR76b53LETtpyT\n"
     ]
    }
   ],
   "source": [
    "# Decoding the message to remove the byte literal notation before concatenating with the new message\n",
    "message = eave_alice_decrypted.decode(\"utf-8\")\n",
    "print(\"Alice's message to Bob:\", message)\n",
    "new_message = message + \". I need you to send me Bitcoin to this address: 1BoatSLRHtKNngkdXEeobR76b53LETtpyT\"\n",
    "print(\"New message to Bob:\", new_message)\n",
    "\n",
    "# Now sending that to Bob\n",
    "\n"
   ]
  },
  {
   "cell_type": "code",
   "execution_count": 71,
   "metadata": {},
   "outputs": [
    {
     "ename": "TypeError",
     "evalue": "data must be bytes-like",
     "output_type": "error",
     "traceback": [
      "\u001b[0;31m---------------------------------------------------------------------------\u001b[0m",
      "\u001b[0;31mTypeError\u001b[0m                                 Traceback (most recent call last)",
      "File \u001b[0;32m~/.pyenv/versions/3.8.12/lib/python3.8/site-packages/cryptography/utils.py:37\u001b[0m, in \u001b[0;36m_check_byteslike\u001b[0;34m(name, value)\u001b[0m\n\u001b[1;32m     36\u001b[0m \u001b[38;5;28;01mtry\u001b[39;00m:\n\u001b[0;32m---> 37\u001b[0m     \u001b[38;5;28;43mmemoryview\u001b[39;49m\u001b[43m(\u001b[49m\u001b[43mvalue\u001b[49m\u001b[43m)\u001b[49m\n\u001b[1;32m     38\u001b[0m \u001b[38;5;28;01mexcept\u001b[39;00m \u001b[38;5;167;01mTypeError\u001b[39;00m:\n",
      "\u001b[0;31mTypeError\u001b[0m: memoryview: a bytes-like object is required, not 'str'",
      "\nDuring handling of the above exception, another exception occurred:\n",
      "\u001b[0;31mTypeError\u001b[0m                                 Traceback (most recent call last)",
      "Cell \u001b[0;32mIn[71], line 1\u001b[0m\n\u001b[0;32m----> 1\u001b[0m message_for_bob \u001b[38;5;241m=\u001b[39m \u001b[43mencrypt\u001b[49m\u001b[43m(\u001b[49m\u001b[43maes_key_bob_eave\u001b[49m\u001b[43m,\u001b[49m\u001b[43m \u001b[49m\u001b[43mnew_message\u001b[49m\u001b[43m)\u001b[49m\n",
      "Cell \u001b[0;32mIn[65], line 11\u001b[0m, in \u001b[0;36mencrypt\u001b[0;34m(key, message)\u001b[0m\n\u001b[1;32m      8\u001b[0m \u001b[38;5;28;01mdef\u001b[39;00m \u001b[38;5;21mencrypt\u001b[39m(key, message):\n\u001b[1;32m      9\u001b[0m     \u001b[38;5;66;03m# Padding the message to ensure it is a multiple of the block size\u001b[39;00m\n\u001b[1;32m     10\u001b[0m     padder \u001b[38;5;241m=\u001b[39m PKCS7(algorithms\u001b[38;5;241m.\u001b[39mAES\u001b[38;5;241m.\u001b[39mblock_size)\u001b[38;5;241m.\u001b[39mpadder()\n\u001b[0;32m---> 11\u001b[0m     padded_message \u001b[38;5;241m=\u001b[39m \u001b[43mpadder\u001b[49m\u001b[38;5;241;43m.\u001b[39;49m\u001b[43mupdate\u001b[49m\u001b[43m(\u001b[49m\u001b[43mmessage\u001b[49m\u001b[43m)\u001b[49m \u001b[38;5;241m+\u001b[39m padder\u001b[38;5;241m.\u001b[39mfinalize()\n\u001b[1;32m     13\u001b[0m     \u001b[38;5;66;03m# Create a new AES cipher with CBC mode\u001b[39;00m\n\u001b[1;32m     14\u001b[0m     cipher \u001b[38;5;241m=\u001b[39m Cipher(algorithms\u001b[38;5;241m.\u001b[39mAES(key), modes\u001b[38;5;241m.\u001b[39mCBC(\u001b[38;5;124mb\u001b[39m\u001b[38;5;124m'\u001b[39m\u001b[38;5;124mIloveCryptografy\u001b[39m\u001b[38;5;124m'\u001b[39m), backend\u001b[38;5;241m=\u001b[39mdefault_backend())\n",
      "File \u001b[0;32m~/.pyenv/versions/3.8.12/lib/python3.8/site-packages/cryptography/hazmat/primitives/padding.py:129\u001b[0m, in \u001b[0;36m_PKCS7PaddingContext.update\u001b[0;34m(self, data)\u001b[0m\n\u001b[1;32m    128\u001b[0m \u001b[38;5;28;01mdef\u001b[39;00m \u001b[38;5;21mupdate\u001b[39m(\u001b[38;5;28mself\u001b[39m, data: \u001b[38;5;28mbytes\u001b[39m) \u001b[38;5;241m-\u001b[39m\u001b[38;5;241m>\u001b[39m \u001b[38;5;28mbytes\u001b[39m:\n\u001b[0;32m--> 129\u001b[0m     \u001b[38;5;28mself\u001b[39m\u001b[38;5;241m.\u001b[39m_buffer, result \u001b[38;5;241m=\u001b[39m \u001b[43m_byte_padding_update\u001b[49m\u001b[43m(\u001b[49m\n\u001b[1;32m    130\u001b[0m \u001b[43m        \u001b[49m\u001b[38;5;28;43mself\u001b[39;49m\u001b[38;5;241;43m.\u001b[39;49m\u001b[43m_buffer\u001b[49m\u001b[43m,\u001b[49m\u001b[43m \u001b[49m\u001b[43mdata\u001b[49m\u001b[43m,\u001b[49m\u001b[43m \u001b[49m\u001b[38;5;28;43mself\u001b[39;49m\u001b[38;5;241;43m.\u001b[39;49m\u001b[43mblock_size\u001b[49m\n\u001b[1;32m    131\u001b[0m \u001b[43m    \u001b[49m\u001b[43m)\u001b[49m\n\u001b[1;32m    132\u001b[0m     \u001b[38;5;28;01mreturn\u001b[39;00m result\n",
      "File \u001b[0;32m~/.pyenv/versions/3.8.12/lib/python3.8/site-packages/cryptography/hazmat/primitives/padding.py:46\u001b[0m, in \u001b[0;36m_byte_padding_update\u001b[0;34m(buffer_, data, block_size)\u001b[0m\n\u001b[1;32m     43\u001b[0m \u001b[38;5;28;01mif\u001b[39;00m buffer_ \u001b[38;5;129;01mis\u001b[39;00m \u001b[38;5;28;01mNone\u001b[39;00m:\n\u001b[1;32m     44\u001b[0m     \u001b[38;5;28;01mraise\u001b[39;00m AlreadyFinalized(\u001b[38;5;124m\"\u001b[39m\u001b[38;5;124mContext was already finalized.\u001b[39m\u001b[38;5;124m\"\u001b[39m)\n\u001b[0;32m---> 46\u001b[0m \u001b[43mutils\u001b[49m\u001b[38;5;241;43m.\u001b[39;49m\u001b[43m_check_byteslike\u001b[49m\u001b[43m(\u001b[49m\u001b[38;5;124;43m\"\u001b[39;49m\u001b[38;5;124;43mdata\u001b[39;49m\u001b[38;5;124;43m\"\u001b[39;49m\u001b[43m,\u001b[49m\u001b[43m \u001b[49m\u001b[43mdata\u001b[49m\u001b[43m)\u001b[49m\n\u001b[1;32m     48\u001b[0m buffer_ \u001b[38;5;241m+\u001b[39m\u001b[38;5;241m=\u001b[39m \u001b[38;5;28mbytes\u001b[39m(data)\n\u001b[1;32m     50\u001b[0m finished_blocks \u001b[38;5;241m=\u001b[39m \u001b[38;5;28mlen\u001b[39m(buffer_) \u001b[38;5;241m/\u001b[39m\u001b[38;5;241m/\u001b[39m (block_size \u001b[38;5;241m/\u001b[39m\u001b[38;5;241m/\u001b[39m \u001b[38;5;241m8\u001b[39m)\n",
      "File \u001b[0;32m~/.pyenv/versions/3.8.12/lib/python3.8/site-packages/cryptography/utils.py:39\u001b[0m, in \u001b[0;36m_check_byteslike\u001b[0;34m(name, value)\u001b[0m\n\u001b[1;32m     37\u001b[0m     \u001b[38;5;28mmemoryview\u001b[39m(value)\n\u001b[1;32m     38\u001b[0m \u001b[38;5;28;01mexcept\u001b[39;00m \u001b[38;5;167;01mTypeError\u001b[39;00m:\n\u001b[0;32m---> 39\u001b[0m     \u001b[38;5;28;01mraise\u001b[39;00m \u001b[38;5;167;01mTypeError\u001b[39;00m(\u001b[38;5;124mf\u001b[39m\u001b[38;5;124m\"\u001b[39m\u001b[38;5;132;01m{\u001b[39;00mname\u001b[38;5;132;01m}\u001b[39;00m\u001b[38;5;124m must be bytes-like\u001b[39m\u001b[38;5;124m\"\u001b[39m)\n",
      "\u001b[0;31mTypeError\u001b[0m: data must be bytes-like"
     ]
    }
   ],
   "source": [
    "message_for_bob = encrypt(aes_key_bob_eave, new_message)"
   ]
  },
  {
   "cell_type": "code",
   "execution_count": null,
   "metadata": {},
   "outputs": [],
   "source": []
  }
 ],
 "metadata": {
  "kernelspec": {
   "display_name": "Python 3",
   "language": "python",
   "name": "python3"
  },
  "language_info": {
   "codemirror_mode": {
    "name": "ipython",
    "version": 3
   },
   "file_extension": ".py",
   "mimetype": "text/x-python",
   "name": "python",
   "nbconvert_exporter": "python",
   "pygments_lexer": "ipython3",
   "version": "3.8.12"
  }
 },
 "nbformat": 4,
 "nbformat_minor": 2
}
