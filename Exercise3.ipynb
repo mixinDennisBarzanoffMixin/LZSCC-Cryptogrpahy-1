{
 "cells": [
  {
   "cell_type": "code",
   "execution_count": 1,
   "metadata": {},
   "outputs": [],
   "source": [
    "from cryptography.hazmat.primitives import hashes\n",
    "from cryptography.hazmat.primitives.asymmetric import ec, utils"
   ]
  },
  {
   "cell_type": "code",
   "execution_count": 9,
   "metadata": {},
   "outputs": [],
   "source": [
    "def gen_elliptic_curve_keys(): \n",
    "    curve = ec.SECP256R1()\n",
    "    private_key = ec.generate_private_key(curve)\n",
    "    public_key = private_key.public_key()\n",
    "    return private_key, public_key\n",
    "\n",
    "private_key, public_key = gen_elliptic_curve_keys()\n",
    "\n"
   ]
  },
  {
   "cell_type": "code",
   "execution_count": 13,
   "metadata": {},
   "outputs": [
    {
     "name": "stdout",
     "output_type": "stream",
     "text": [
      "2cf24dba5fb0a30e26e83b2ac5b9e29e1b161e5c1fa7425e73043362938b9824\n"
     ]
    }
   ],
   "source": [
    "from cryptography.hazmat.backends import default_backend\n",
    "\n",
    "def hash(message):\n",
    "    hasher = hashes.Hash(hashes.SHA256(), backend=default_backend())\n",
    "    hasher.update(message.encode())\n",
    "    return hasher.finalize()\n",
    "\n",
    "print(hash(\"hello\").hex())\n"
   ]
  },
  {
   "cell_type": "code",
   "execution_count": 15,
   "metadata": {},
   "outputs": [
    {
     "name": "stdout",
     "output_type": "stream",
     "text": [
      "3045022100f4a3f0d39b5aa0299ab641350d140a3ee61153554369912e9e465d07f6f8124302204daf85a4db9f93b971ed77b54ace8f2387bf82e791fa25ec09e1e5ef80b64fee\n",
      "3046022100c9c347b9411471c7378aef2f5706cde52b567c479b3e1a54c0fe6950d393afe1022100c4fb27c2f38faf3a481dce31d85cef6e5da4fca78896891388d301a50c2f7d88\n"
     ]
    }
   ],
   "source": [
    "def sign(message: str, pk: ec.EllipticCurvePrivateKey) -> bytes:\n",
    "    hash_message = hash(message)\n",
    "    # telling ECDSA to not hash the message as it's already hashed\n",
    "    signature = pk.sign(hash_message, ec.ECDSA(utils.Prehashed(hashes.SHA256())))\n",
    "    return signature\n",
    "\n",
    "signature = sign(\"hello\", private_key).hex()\n",
    "another_signature = sign(\"hello\", private_key).hex()\n",
    "\n",
    "print(signature)\n",
    "print(another_signature)"
   ]
  },
  {
   "cell_type": "code",
   "execution_count": 19,
   "metadata": {},
   "outputs": [],
   "source": [
    "def verify(message: str, signature: bytes, pk: ec.EllipticCurvePublicKey) -> None:\n",
    "    hash_message = hash(message)\n",
    "    pk.verify(signature, hash_message, ec.ECDSA(utils.Prehashed(hashes.SHA256())))\n",
    "\n",
    "verify(\"hello\", bytes.fromhex(signature), public_key)\n"
   ]
  },
  {
   "cell_type": "code",
   "execution_count": 21,
   "metadata": {},
   "outputs": [
    {
     "ename": "InvalidSignature",
     "evalue": "",
     "output_type": "error",
     "traceback": [
      "\u001b[0;31m---------------------------------------------------------------------------\u001b[0m",
      "\u001b[0;31mInvalidSignature\u001b[0m                          Traceback (most recent call last)",
      "Cell \u001b[0;32mIn[21], line 1\u001b[0m\n\u001b[0;32m----> 1\u001b[0m \u001b[43mverify\u001b[49m\u001b[43m(\u001b[49m\u001b[38;5;124;43m\"\u001b[39;49m\u001b[38;5;124;43mhello, hacked\u001b[39;49m\u001b[38;5;124;43m\"\u001b[39;49m\u001b[43m,\u001b[49m\u001b[43m \u001b[49m\u001b[38;5;28;43mbytes\u001b[39;49m\u001b[38;5;241;43m.\u001b[39;49m\u001b[43mfromhex\u001b[49m\u001b[43m(\u001b[49m\u001b[43msignature\u001b[49m\u001b[43m)\u001b[49m\u001b[43m,\u001b[49m\u001b[43m \u001b[49m\u001b[43mpublic_key\u001b[49m\u001b[43m)\u001b[49m\n",
      "Cell \u001b[0;32mIn[19], line 3\u001b[0m, in \u001b[0;36mverify\u001b[0;34m(message, signature, pk)\u001b[0m\n\u001b[1;32m      1\u001b[0m \u001b[38;5;28;01mdef\u001b[39;00m \u001b[38;5;21mverify\u001b[39m(message: \u001b[38;5;28mstr\u001b[39m, signature: \u001b[38;5;28mbytes\u001b[39m, pk: ec\u001b[38;5;241m.\u001b[39mEllipticCurvePublicKey) \u001b[38;5;241m-\u001b[39m\u001b[38;5;241m>\u001b[39m \u001b[38;5;28;01mNone\u001b[39;00m:\n\u001b[1;32m      2\u001b[0m     hash_message \u001b[38;5;241m=\u001b[39m \u001b[38;5;28mhash\u001b[39m(message)\n\u001b[0;32m----> 3\u001b[0m     \u001b[43mpk\u001b[49m\u001b[38;5;241;43m.\u001b[39;49m\u001b[43mverify\u001b[49m\u001b[43m(\u001b[49m\u001b[43msignature\u001b[49m\u001b[43m,\u001b[49m\u001b[43m \u001b[49m\u001b[43mhash_message\u001b[49m\u001b[43m,\u001b[49m\u001b[43m \u001b[49m\u001b[43mec\u001b[49m\u001b[38;5;241;43m.\u001b[39;49m\u001b[43mECDSA\u001b[49m\u001b[43m(\u001b[49m\u001b[43mutils\u001b[49m\u001b[38;5;241;43m.\u001b[39;49m\u001b[43mPrehashed\u001b[49m\u001b[43m(\u001b[49m\u001b[43mhashes\u001b[49m\u001b[38;5;241;43m.\u001b[39;49m\u001b[43mSHA256\u001b[49m\u001b[43m(\u001b[49m\u001b[43m)\u001b[49m\u001b[43m)\u001b[49m\u001b[43m)\u001b[49m\u001b[43m)\u001b[49m\n",
      "\u001b[0;31mInvalidSignature\u001b[0m: "
     ]
    }
   ],
   "source": [
    "verify(\"hello, hacked\", bytes.fromhex(signature), public_key)"
   ]
  },
  {
   "cell_type": "code",
   "execution_count": null,
   "metadata": {},
   "outputs": [],
   "source": []
  }
 ],
 "metadata": {
  "kernelspec": {
   "display_name": "Python 3",
   "language": "python",
   "name": "python3"
  },
  "language_info": {
   "codemirror_mode": {
    "name": "ipython",
    "version": 3
   },
   "file_extension": ".py",
   "mimetype": "text/x-python",
   "name": "python",
   "nbconvert_exporter": "python",
   "pygments_lexer": "ipython3",
   "version": "3.8.12"
  }
 },
 "nbformat": 4,
 "nbformat_minor": 2
}
